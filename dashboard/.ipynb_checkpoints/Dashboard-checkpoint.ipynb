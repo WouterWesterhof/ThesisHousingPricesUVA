{
 "cells": [
  {
   "cell_type": "code",
   "execution_count": 6,
   "id": "5ee284b7-4b51-486c-bc60-2fb3795e74de",
   "metadata": {},
   "outputs": [
    {
     "name": "stdout",
     "output_type": "stream",
     "text": [
      "           buurtnaam   buurtcode  \\\n",
      "0         Buitenland  BU09989999   \n",
      "1  Groot binnenwater  BU00349997   \n",
      "2  Groot binnenwater  BU00509997   \n",
      "3        Buitenwater  BU00609998   \n",
      "4        Buitenwater  BU00729998   \n",
      "\n",
      "                                            geometry  \n",
      "0  MULTIPOLYGON (((123629.78 379674.57, 123627.21...  \n",
      "1  MULTIPOLYGON (((150087.299 479382.379, 150000....  \n",
      "2  MULTIPOLYGON (((155047.32 474836.246, 155049.0...  \n",
      "3  MULTIPOLYGON (((196000 608000, 195250 607500, ...  \n",
      "4  MULTIPOLYGON (((158000 581000, 158331.38 58046...  \n"
     ]
    }
   ],
   "source": [
    "import geopandas as gpd\n",
    "import folium\n",
    "\n",
    "# Load the GeoPackage file, specifying the 'buurten' layer\n",
    "file_path = 'wijkenbuurten_2024_v1.gpkg'  # Update this with the correct path\n",
    "neighborhoods = gpd.read_file(file_path, layer='buurten')\n",
    "neighborhoods_df = neighborhoods[['buurtnaam', 'buurtcode', 'geometry']]\n",
    "\n",
    "# Check the first few rows of the GeoDataFrame\n",
    "print(neighborhoods_df.head())"
   ]
  },
  {
   "cell_type": "code",
   "execution_count": 7,
   "id": "b7655654-0d95-4a57-a2f1-53f1c58586f0",
   "metadata": {},
   "outputs": [
    {
     "name": "stdout",
     "output_type": "stream",
     "text": [
      "14668\n"
     ]
    }
   ],
   "source": [
    "print(len(neighborhoods_df))"
   ]
  },
  {
   "cell_type": "code",
   "execution_count": 15,
   "id": "fc37c28c-e9c0-4742-bde6-7d52fce4a794",
   "metadata": {},
   "outputs": [],
   "source": [
    "# Create a new DataFrame with only the buurtnaam, buurtcode, and geometry\n",
    "neighborhoods_df = neighborhoods[['buurtnaam', 'buurtcode', 'geometry']]\n",
    "\n",
    "# Create a Folium map centered around the Netherlands\n",
    "m = folium.Map(location=[52.3784, 4.9009], zoom_start=8)  # Center on Amsterdam\n",
    "\n",
    "# Add the neighborhoods to the map\n",
    "folium.GeoJson(\n",
    "    neighborhoods_df,\n",
    "    name='Neighborhoods',\n",
    "    tooltip=folium.GeoJsonTooltip(fields=['buurtnaam', 'buurtcode'], aliases=['Neighborhood:', 'Code:'])\n",
    ").add_to(m)\n",
    "\n",
    "# Add Layer Control\n",
    "folium.LayerControl().add_to(m)\n",
    "\n",
    "# Save the map to an HTML file\n",
    "m.save('neighborhoods_map.html')\n",
    "\n",
    "# Display the map in a Jupyter Notebook (if using Jupyter)\n",
    "# m"
   ]
  },
  {
   "cell_type": "code",
   "execution_count": 2,
   "id": "7dc9235e-cded-4c6d-807f-e1ca417edccf",
   "metadata": {},
   "outputs": [
    {
     "name": "stdout",
     "output_type": "stream",
     "text": [
      "Choose a variable to display:\n",
      "1. WOZ Value (2023), and increase from 2014 until 2023 (%)\n",
      "2. WOZ Value (2024)\n",
      "3. WOZ Value (2025)\n",
      "4. WOZ Value (2026)\n",
      "5. WOZ Increase from 2014 until 2023 (%)\n"
     ]
    },
    {
     "name": "stdin",
     "output_type": "stream",
     "text": [
      "Enter the number of your choice:  1\n"
     ]
    },
    {
     "name": "stdout",
     "output_type": "stream",
     "text": [
      "\n",
      "Selected display name: WOZ Value (2023), and increase from 2014 until 2023 (%)\n",
      "Mapped column name: woz_2023\n",
      "['woz_2023', 'woz/m2_23', 'act_woz_incr']\n"
     ]
    }
   ],
   "source": [
    "# Mapping of display names to actual column names\n",
    "variable_mapping = {\n",
    "    \"WOZ Value (2023), and increase from 2014 until 2023 (%)\": \"woz_2023\", \n",
    "    \"WOZ Value (2024)\": \"woz_2024\",\n",
    "    \"WOZ Value (2025)\": \"woz_2025\",        \n",
    "    \"WOZ Value (2026)\": \"woz_2026\",\n",
    "    \"WOZ Increase from 2014 until 2023 (%)\": \"act_woz_incr\"\n",
    "}\n",
    "\n",
    "# Simulate a selection using input() instead of Streamlit\n",
    "print(\"Choose a variable to display:\")\n",
    "for i, key in enumerate(variable_mapping.keys()):\n",
    "    print(f\"{i + 1}. {key}\")\n",
    "\n",
    "# Ask for user input\n",
    "selected_index = int(input(\"Enter the number of your choice: \")) - 1\n",
    "selected_display_name = list(variable_mapping.keys())[selected_index]\n",
    "selected_variable = variable_mapping[selected_display_name]\n",
    "\n",
    "# Print results to verify\n",
    "print(f\"\\nSelected display name: {selected_display_name}\")\n",
    "print(f\"Mapped column name: {selected_variable}\")\n",
    "\n",
    "if selected_variable == \"woz_2023\":\n",
    "    selected_variables =  [\"woz_2023\", \"woz/m2_23\", \"act_woz_incr\"]\n",
    "\n",
    "print(selected_variables)\n"
   ]
  },
  {
   "cell_type": "markdown",
   "id": "6ba73e0d-0687-48ff-8564-61ee60812de7",
   "metadata": {},
   "source": [
    "### Get only desired columns"
   ]
  },
  {
   "cell_type": "code",
   "execution_count": 1,
   "id": "6227e083-e052-4304-8dbe-fc6b83ddf526",
   "metadata": {},
   "outputs": [],
   "source": [
    "import pandas as pd\n",
    "import geopandas as gpd\n",
    "import plotly.express as px\n",
    "import pydeck as pdk\n",
    "import matplotlib.pyplot as plt\n",
    "import pandas as pd\n",
    "import numpy as np\n",
    "import json\n",
    "\n",
    "file = pd.read_csv('cbs_Predicted.csv')\n",
    "\n",
    "file_path = 'wijkenbuurten_2024_v1.gpkg'  # Update this with the correct path\n",
    "neighborhoods = gpd.read_file(file_path, layer='buurten')\n"
   ]
  },
  {
   "cell_type": "code",
   "execution_count": 2,
   "id": "0d7f377e-6448-4475-bb6d-d8dfb2385a96",
   "metadata": {},
   "outputs": [],
   "source": [
    "from shapely.geometry import Polygon\n",
    "\n",
    "\n",
    "CBS_buurten = file['gwb_code']\n",
    "\n",
    "filtered_neighborhoods = neighborhoods[neighborhoods[\"buurtcode\"].isin(CBS_buurten)]\n",
    "filtered_neighborhoods = filtered_neighborhoods[[\"buurtcode\", \"geometry\"]]\n",
    "\n",
    "filtered_neighborhoods[\"geometry\"] = filtered_neighborhoods[\"geometry\"].apply(\n",
    "    lambda geom: geom if isinstance(geom, Polygon) else list(geom.geoms)[0]  # Take first polygon\n",
    ")\n",
    "\n",
    "# # For CBS\n",
    "# json_data = filtered_neighborhoods.to_crs(epsg=4326).to_json()\n",
    "\n",
    "# with open(\"polygons_neigborhoods_CBS.json\", \"w\") as f:\n",
    "#     f.write(json_data)\n"
   ]
  },
  {
   "cell_type": "code",
   "execution_count": 3,
   "id": "788e1cf4-29d8-490a-9508-d2d0466de91b",
   "metadata": {},
   "outputs": [],
   "source": [
    "# For Utrecht\n",
    "Utrecht_buurten = file[file[\"gm_naam\"] == \"Utrecht\"]\n",
    "utrecht_neighborhoods = filtered_neighborhoods[filtered_neighborhoods[\"buurtcode\"].isin(Utrecht_buurten[\"gwb_code\"])]\n",
    "json_utrecht = utrecht_neighborhoods.to_crs(epsg=4326).to_json()\n",
    "\n",
    "with open(\"polygons_neigborhoods_Utrecht.json\", \"w\") as f:\n",
    "    f.write(json_utrecht)\n"
   ]
  },
  {
   "cell_type": "code",
   "execution_count": 3,
   "id": "42165528-e965-4834-9c40-66de8590e67f",
   "metadata": {},
   "outputs": [],
   "source": [
    "selected_columns = ['regio', 'gm_naam', 'gwb_code', 'a_inw', 'bev_dich', 'a_woning', 'p_koopw',\n",
    "       'p_huurw', 'p_wcorpw', 'g_ele', 'g_ele_vw', 'g_ele_hu',\n",
    "       'g_ele_ko', 'g_gas', 'g_gas_ko', 'g_ink_po', 'g_ink_pi', 'p_hh_li', 'p_hh_hi',\n",
    "       'p_hh_lkk', 'a_soz_ww', 'a_soz_ow', 'g_pau_hh', 'pst_mvp', 'pst_dekp', 'ste_oad', \n",
    "        'woz_2014', 'woz_2015', 'woz_2016', 'woz_2017',\n",
    "       'woz_2018', 'woz_2019', 'woz_2020', 'woz_2021', 'woz_2022', 'woz_2023',\n",
    "       'woz_2024', 'woz_2025', 'woz_2026']\n",
    "\n",
    "\n",
    "important_CBS = file[selected_columns]\n",
    "\n",
    "important_B = important_CBS.copy()\n",
    "# Ronden en omzetten naar int voor beide kolommen\n",
    "important_B['woz_2025'] = important_B['woz_2025'].round(0).astype(int)\n",
    "important_B['woz_2026'] = important_B['woz_2026'].round(0).astype(int)\n"
   ]
  },
  {
   "cell_type": "code",
   "execution_count": 4,
   "id": "326bf137-e3dc-4b4f-abfe-7e413cbbc5d8",
   "metadata": {},
   "outputs": [
    {
     "name": "stdout",
     "output_type": "stream",
     "text": [
      "                      regio        gm_naam   buurtcode   a_inw  bev_dich  \\\n",
      "0             Belgisch Park  's-Gravenhage  BU05180271  8385.0    7900.0   \n",
      "1             Westbroekpark  's-Gravenhage  BU05180373  1090.0    2644.0   \n",
      "2                 Duttendel  's-Gravenhage  BU05180374  1310.0    1006.0   \n",
      "3               Nassaubuurt  's-Gravenhage  BU05180448  1635.0    5779.0   \n",
      "4                 Uilennest  's-Gravenhage  BU05180475  2335.0    7935.0   \n",
      "...                     ...            ...         ...     ...       ...   \n",
      "4709            Gerenlanden         Zwolle  BU01935140  3000.0    5434.0   \n",
      "4710             Gerenbroek         Zwolle  BU01935150  3025.0    6411.0   \n",
      "4711              Oude Mars         Zwolle  BU01935160   270.0     625.0   \n",
      "4712             Windesheim         Zwolle  BU01935200   390.0     730.0   \n",
      "4713  Harculo en Hoogzutmen         Zwolle  BU01935210   495.0      47.0   \n",
      "\n",
      "      a_woning  p_koopw  p_huurw  p_wcorpw        g_ele  ...    woz_2017  \\\n",
      "0       4150.0     60.0     39.0      13.0  2264.074074  ...  312.000000   \n",
      "1        612.0     62.0     37.0       9.0  3149.940845  ...  581.000000   \n",
      "2        744.0     61.0     39.0       0.0  2818.024691  ...  615.000000   \n",
      "3        777.0     70.0     29.0       1.0  3147.964652  ...  495.000000   \n",
      "4       1291.0     77.0     23.0       0.0  2370.932704  ...  270.000000   \n",
      "...        ...      ...      ...       ...          ...  ...         ...   \n",
      "4709    1222.0     80.0     20.0      17.0  2516.790123  ...  212.000000   \n",
      "4710    1192.0     80.0     20.0      17.0  2437.654321  ...  206.000000   \n",
      "4711      76.0     97.0      3.0       0.0  4739.168802  ...  386.527542   \n",
      "4712     156.0     79.0     20.0      18.0  2901.481481  ...  264.000000   \n",
      "4713     139.0     80.0     20.0       0.0  4012.612611  ...  449.000000   \n",
      "\n",
      "        woz_2018  woz_2019  woz_2020  woz_2021  woz_2022  woz_2023  woz_2024  \\\n",
      "0     339.000000     366.0     398.0     424.0     457.0     504.0     520.0   \n",
      "1     623.000000     581.0     587.0     618.0     654.0     713.0     756.0   \n",
      "2     668.000000     582.0     608.0     642.0     647.0     722.0     744.0   \n",
      "3     551.000000     601.0     648.0     688.0     708.0     782.0     790.0   \n",
      "4     299.000000     336.0     380.0     419.0     449.0     493.0     495.0   \n",
      "...          ...       ...       ...       ...       ...       ...       ...   \n",
      "4709  225.000000     244.0     262.0     283.0     314.0     363.0     366.0   \n",
      "4710  221.000000     238.0     257.0     277.0     300.0     341.0     358.0   \n",
      "4711  369.539737     753.0     954.0    1040.0    1149.0    1149.0    1080.0   \n",
      "4712  268.000000     281.0     298.0     312.0     358.0     385.0     417.0   \n",
      "4713  439.000000     455.0     466.0     478.0     534.0     581.0     599.0   \n",
      "\n",
      "      woz_2025  woz_2026  \n",
      "0          525       526  \n",
      "1          791       819  \n",
      "2          796       806  \n",
      "3          818       896  \n",
      "4          512       518  \n",
      "...        ...       ...  \n",
      "4709       378       394  \n",
      "4710       370       386  \n",
      "4711      1082      1082  \n",
      "4712       442       458  \n",
      "4713       632       670  \n",
      "\n",
      "[4714 rows x 39 columns]\n"
     ]
    }
   ],
   "source": [
    "#print(important_B)\n",
    "buurtdata = important_B.rename(columns={'gwb_code': 'buurtcode'}) \n",
    "print(buurtdata)\n",
    "#important_B.to_csv('buurten_map.csv', index=False)"
   ]
  },
  {
   "cell_type": "code",
   "execution_count": 19,
   "id": "151ea7c4-c215-4657-adbb-9d515a5ec531",
   "metadata": {},
   "outputs": [
    {
     "name": "stderr",
     "output_type": "stream",
     "text": [
      "IOPub data rate exceeded.\n",
      "The Jupyter server will temporarily stop sending output\n",
      "to the client in order to avoid crashing it.\n",
      "To change this limit, set the config variable\n",
      "`--ServerApp.iopub_data_rate_limit`.\n",
      "\n",
      "Current values:\n",
      "ServerApp.iopub_data_rate_limit=1000000.0 (bytes/sec)\n",
      "ServerApp.rate_limit_window=3.0 (secs)\n",
      "\n"
     ]
    }
   ],
   "source": [
    "print(json_data)"
   ]
  },
  {
   "cell_type": "code",
   "execution_count": 15,
   "id": "05447bf7-8cd0-4668-aab9-358b2b940544",
   "metadata": {},
   "outputs": [
    {
     "name": "stdout",
     "output_type": "stream",
     "text": [
      "<class 'str'>\n"
     ]
    },
    {
     "ename": "AttributeError",
     "evalue": "'str' object has no attribute 'keys'",
     "output_type": "error",
     "traceback": [
      "\u001b[0;31m---------------------------------------------------------------------------\u001b[0m",
      "\u001b[0;31mAttributeError\u001b[0m                            Traceback (most recent call last)",
      "Cell \u001b[0;32mIn[15], line 37\u001b[0m\n\u001b[1;32m     32\u001b[0m                 feature[\u001b[38;5;124m\"\u001b[39m\u001b[38;5;124mproperties\u001b[39m\u001b[38;5;124m\"\u001b[39m][key] \u001b[38;5;241m=\u001b[39m \u001b[38;5;28;01mNone\u001b[39;00m  \n\u001b[1;32m     34\u001b[0m     \u001b[38;5;28;01mreturn\u001b[39;00m json_poly_buurt  \u001b[38;5;66;03m# Return the updated GeoJSON\u001b[39;00m\n\u001b[0;32m---> 37\u001b[0m json_pydeck \u001b[38;5;241m=\u001b[39m \u001b[43mmerge_data_to_geojson\u001b[49m\u001b[43m(\u001b[49m\u001b[43mbuurtdata\u001b[49m\u001b[43m,\u001b[49m\u001b[43m \u001b[49m\u001b[43mjson_data\u001b[49m\u001b[43m)\u001b[49m\n",
      "Cell \u001b[0;32mIn[15], line 9\u001b[0m, in \u001b[0;36mmerge_data_to_geojson\u001b[0;34m(data, json_poly_buurt)\u001b[0m\n\u001b[1;32m      4\u001b[0m \u001b[38;5;250m\u001b[39m\u001b[38;5;124;03m\"\"\"\u001b[39;00m\n\u001b[1;32m      5\u001b[0m \u001b[38;5;124;03mMerges DataFrame (data) with GeoJSON (json_poly_buurt) using 'buurtcode' as the key.\u001b[39;00m\n\u001b[1;32m      6\u001b[0m \u001b[38;5;124;03m\"\"\"\u001b[39;00m\n\u001b[1;32m      8\u001b[0m \u001b[38;5;28mprint\u001b[39m(\u001b[38;5;28mtype\u001b[39m(json_poly_buurt))  \u001b[38;5;66;03m# Should be <class 'dict'>\u001b[39;00m\n\u001b[0;32m----> 9\u001b[0m \u001b[38;5;28mprint\u001b[39m(\u001b[43mjson_poly_buurt\u001b[49m\u001b[38;5;241;43m.\u001b[39;49m\u001b[43mkeys\u001b[49m())  \u001b[38;5;66;03m# Should contain \"features\"\u001b[39;00m\n\u001b[1;32m     10\u001b[0m \u001b[38;5;28mprint\u001b[39m(json_poly_buurt\u001b[38;5;241m.\u001b[39mget(\u001b[38;5;124m\"\u001b[39m\u001b[38;5;124mfeatures\u001b[39m\u001b[38;5;124m\"\u001b[39m, \u001b[38;5;124m\"\u001b[39m\u001b[38;5;124mMissing key\u001b[39m\u001b[38;5;124m\"\u001b[39m))  \u001b[38;5;66;03m# Check if \"features\" exists\u001b[39;00m\n\u001b[1;32m     12\u001b[0m \u001b[38;5;66;03m# Convert DataFrame to a dictionary for fast lookup (each 'buurtcode' contains a dictionary of all values)\u001b[39;00m\n",
      "\u001b[0;31mAttributeError\u001b[0m: 'str' object has no attribute 'keys'"
     ]
    }
   ],
   "source": [
    "import json\n",
    "\n",
    "def merge_data_to_geojson(data, json_poly_buurt):\n",
    "    \"\"\"\n",
    "    Merges DataFrame (data) with GeoJSON (json_poly_buurt) using 'buurtcode' as the key.\n",
    "    \"\"\"\n",
    "\n",
    "    print(type(json_poly_buurt))  # Should be <class 'dict'>\n",
    "    print(json_poly_buurt.keys())  # Should contain \"features\"\n",
    "    print(json_poly_buurt.get(\"features\", \"Missing key\"))  # Check if \"features\" exists\n",
    "\n",
    "    # Convert DataFrame to a dictionary for fast lookup (each 'buurtcode' contains a dictionary of all values)\n",
    "    data_dict = data.set_index(\"buurtcode\")[[\n",
    "        \"regio\", \"gm_naam\", \"a_inw\", \"bev_dich\", \"a_woning\", \"p_koopw\",\n",
    "        \"p_huurw\", \"p_wcorpw\", \"g_ele\", \"g_ele_vw\", \"g_ele_hu\", \"g_ele_ko\", \"g_gas\",\n",
    "        \"g_gas_ko\", \"g_ink_po\", \"g_ink_pi\", \"p_hh_li\", \"p_hh_hi\", \"p_hh_lkk\", \n",
    "        \"a_soz_ww\", \"a_soz_ow\", \"g_pau_hh\", \"pst_mvp\", \"pst_dekp\", \"ste_oad\",\n",
    "        \"woz_2014\", \"woz_2015\", \"woz_2016\", \"woz_2017\", \"woz_2018\", \"woz_2019\", \n",
    "        \"woz_2020\", \"woz_2021\", \"woz_2022\", \"woz_2023\", \"woz_2024\", \"woz_2025\", \"woz_2026\"\n",
    "    ]].to_dict(orient=\"index\")  # Converts to a nested dictionary {buurtcode: {column_name: value, ...}}\n",
    "\n",
    "    # Loop through each feature in the GeoJSON and add relevant data\n",
    "    for feature in json_poly_buurt[\"features\"]:\n",
    "        buurtcode = feature[\"properties\"].get(\"buurtcode\", None)\n",
    "        \n",
    "        if buurtcode in data_dict:\n",
    "            # Add all columns from `data_dict` to `feature[\"properties\"]`\n",
    "            feature[\"properties\"].update(data_dict[buurtcode])\n",
    "        else:\n",
    "            # Set default values for missing buurtcodes\n",
    "            for key in data.columns:\n",
    "                feature[\"properties\"][key] = None  \n",
    "\n",
    "    return json_poly_buurt  # Return the updated GeoJSON\n",
    "\n",
    "\n",
    "json_pydeck = merge_data_to_geojson(buurtdata, json_data)"
   ]
  },
  {
   "cell_type": "code",
   "execution_count": 5,
   "id": "61e6d5a0-d5b2-4ee3-98e9-6cf72112b01e",
   "metadata": {},
   "outputs": [
    {
     "name": "stdout",
     "output_type": "stream",
     "text": [
      "Merged GeoJSON file saved as: merged_neighborhoods.json\n"
     ]
    }
   ],
   "source": [
    "import pandas as pd\n",
    "import json\n",
    "\n",
    "# Load the buurtdata CSV file\n",
    "buurtdata_path = \"buurten_map.csv\"  # Update the path if necessary\n",
    "buurtdata = pd.read_csv(buurtdata_path)\n",
    "\n",
    "# Load the filtered neighborhoods JSON file\n",
    "filtered_neighborhoods_path = \"polygons_neigborhoods_CBS.json\"  # Update the path if necessary\n",
    "with open(filtered_neighborhoods_path, \"r\") as json_file:\n",
    "    filtered_neighborhoods_data = json.load(json_file)\n",
    "\n",
    "# Convert the JSON structure into a DataFrame for merging\n",
    "neighborhoods_list = []\n",
    "for feature in filtered_neighborhoods_data[\"features\"]:\n",
    "    properties = feature[\"properties\"]\n",
    "    properties[\"geometry\"] = feature[\"geometry\"]  # Add geometry separately\n",
    "    neighborhoods_list.append(properties)\n",
    "\n",
    "# Convert to DataFrame\n",
    "filtered_neighborhoods_df = pd.DataFrame(neighborhoods_list)\n",
    "\n",
    "# Ensure column consistency for merging\n",
    "buurtdata = buurtdata.rename(columns={'gwb_code': 'buurtcode'})\n",
    "\n",
    "# Merge the data on 'buurtcode'\n",
    "merged_data = filtered_neighborhoods_df.merge(buurtdata, on=\"buurtcode\", how=\"left\")\n",
    "\n",
    "# Convert merged data back to GeoJSON format\n",
    "merged_geojson = {\n",
    "    \"type\": \"FeatureCollection\",\n",
    "    \"features\": []\n",
    "}\n",
    "\n",
    "for _, row in merged_data.iterrows():\n",
    "    properties = {col: row[col] for col in merged_data.columns if col != \"geometry\"}\n",
    "    feature = {\n",
    "        \"type\": \"Feature\",\n",
    "        \"properties\": properties,\n",
    "        \"geometry\": row[\"geometry\"]\n",
    "    }\n",
    "    merged_geojson[\"features\"].append(feature)\n",
    "\n",
    "# Save the updated GeoJSON file\n",
    "output_file_path = \"merged_neighborhoods.json\"  # Update the path if needed\n",
    "with open(output_file_path, \"w\") as json_file:\n",
    "    json.dump(merged_geojson, json_file)\n",
    "\n",
    "print(f\"Merged GeoJSON file saved as: {output_file_path}\")\n"
   ]
  }
 ],
 "metadata": {
  "kernelspec": {
   "display_name": "Python 3 (ipykernel)",
   "language": "python",
   "name": "python3"
  },
  "language_info": {
   "codemirror_mode": {
    "name": "ipython",
    "version": 3
   },
   "file_extension": ".py",
   "mimetype": "text/x-python",
   "name": "python",
   "nbconvert_exporter": "python",
   "pygments_lexer": "ipython3",
   "version": "3.10.12"
  }
 },
 "nbformat": 4,
 "nbformat_minor": 5
}
