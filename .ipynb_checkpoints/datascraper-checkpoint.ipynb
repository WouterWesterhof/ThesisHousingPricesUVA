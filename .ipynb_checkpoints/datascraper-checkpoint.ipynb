{
 "cells": [
  {
   "cell_type": "markdown",
   "metadata": {},
   "source": [
    "# this script will download the entire database then save them to a sqlite database (except for price column)\n",
    "* method: scrape data from index to index\n",
    "    * for example we scrape from 020000000000 to 030000000000\n",
    "* method: decode json and save to sqlite database\n",
    "* method: scrape each property's price\n",
    "* method: scrape each property's pdf_link"
   ]
  },
  {
   "cell_type": "code",
   "execution_count": 10,
   "metadata": {},
   "outputs": [],
   "source": [
    "from __future__ import absolute_import, division, print_function, \\\n",
    "    with_statement\n",
    "import requests\n",
    "from peewee import * \n",
    "import json\n",
    "import numpy\n",
    "import logging\n",
    "from multiprocessing.dummy import Pool as ThreadPool\n",
    "import threading"
   ]
  },
  {
   "cell_type": "code",
   "execution_count": 1,
   "metadata": {},
   "outputs": [],
   "source": [
    "objects_done = 0\n",
    "objects_total = 0"
   ]
  },
  {
   "cell_type": "code",
   "execution_count": 2,
   "metadata": {},
   "outputs": [],
   "source": [
    "def parse_json_save_to_sqlite(json_string):\n",
    "    try:\n",
    "        json_obj = json.loads(json_string)\n",
    "    except Exception as e:\n",
    "        logging.error(e)\n",
    "        logging.error(\"there is some problem with json loading\")\n",
    "    \n",
    "    total = len(json_obj['features'])\n",
    "    print(\"------------- get total: %s properties ----------------\" % str(total))\n",
    "    for index, each_building in enumerate(json_obj['features']):\n",
    "        building_info = each_building['properties']\n",
    "        \n",
    "        building = PropertyModel()\n",
    "        if len(str(building_info['wobj_obj_id'])) > 0:\n",
    "            try:\n",
    "                building.identificatie = building_info['wobj_obj_id']\n",
    "            except Exception as e:\n",
    "                print(\"this building has no identification code. \")\n",
    "                building.identificatie = \"none\"\n",
    "        else:\n",
    "            building.identificatie = \"none\"\n",
    "            print(\"this building has no identification code. \")\n",
    "            \n",
    "        if len(str(building_info['wobj_huisnummer'])) > 0:\n",
    "            try:\n",
    "                building.house_number = building_info['wobj_huisnummer']\n",
    "            except Exception as e:\n",
    "                building.house_number = \"none\"\n",
    "                print(\"this building has no house number. \")\n",
    "        else:\n",
    "            building.house_number = \"none\"\n",
    "            print(\"this building has no house number. \")\n",
    "        \n",
    "        if len(str(building_info['wobj_huisletter'])) > 0:\n",
    "            try:\n",
    "                building.house_number_ext = building_info['wobj_huisletter']\n",
    "            except Exception as e:\n",
    "                building.house_number_ext = \"none\"\n",
    "                print(\"this building has no house number extension\")\n",
    "        else:\n",
    "            building.house_number_ext = \"none\"\n",
    "            print(\"this building has no house number extension\")\n",
    "            \n",
    "        if len(str(building_info['wobj_postcode'])) > 0:\n",
    "            try:\n",
    "                building.postcode = building_info['wobj_postcode']\n",
    "            except Exception as e:\n",
    "                building.postcode = \"none\"\n",
    "                print('this building has no postcode. ')\n",
    "        else:\n",
    "            building.postcode = \"none\"\n",
    "            print('this building has no postcode. ')\n",
    "            \n",
    "        if len(str(building_info['wobj_woonplaats'])) > 0:\n",
    "            try:\n",
    "                building.plaatsnaam = building_info['wobj_woonplaats']\n",
    "            except Exception as e:\n",
    "                building.plaatsnaam = \"none\"\n",
    "                print(\"this building has no plaatsnaam. \")\n",
    "        else:\n",
    "            building.plaatsnaam = \"none\"\n",
    "            print(\"this building has no plaatsnaam. \")\n",
    "        \n",
    "        if len(str(building_info['wobj_straat'])) > 0:\n",
    "            try:\n",
    "                building.street = building_info['wobj_straat']\n",
    "            except Exception as e:\n",
    "                building.street = \"none\"\n",
    "                print(\"this building has no street name. \")\n",
    "        else:\n",
    "            building.street = \"none\"\n",
    "            print(\"this building has no street name. \")\n",
    "            \n",
    "        if len(str(building_info['wobj_bag_bouwjaar'])) > 0:\n",
    "            try:\n",
    "                building.bouwjaar = building_info['wobj_bag_bouwjaar']\n",
    "            except Exception as e:\n",
    "                building.bouwjaar = \"none\"\n",
    "                print(\"this building has no bouwjaar. \")\n",
    "        else:\n",
    "            building.bouwjaar = \"none\"\n",
    "            print(\"this building has no bouwjaar. \")\n",
    "            \n",
    "        if len(str(building_info['wobj_bag_gebruiksdoel'])) > 0:\n",
    "            try:\n",
    "                building.gebruiksdoel = building_info['wobj_bag_gebruiksdoel']\n",
    "            except Exception as e:\n",
    "                building.gebruiksdoel = \"none\"\n",
    "                print(\"this building has no gebruiksdoel. \")\n",
    "        else:\n",
    "            building.gebruiksdoel = \"none\"\n",
    "            print(\"this building has no gebruiksdoel. \")\n",
    "            \n",
    "        if len(str(building_info['wobj_oppervlakte'])) > 0:\n",
    "            try:\n",
    "                building.oppervlakte = building_info['wobj_oppervlakte']\n",
    "            except Exception as e:\n",
    "                building.oppervlakte = \"none\"\n",
    "                print(\"this building has no oppervlakte. \")\n",
    "        else:\n",
    "            building.oppervlakte = \"none\"\n",
    "            print(\"this building has no oppervlakte. \")\n",
    "        \n",
    "        \n",
    "        building.price_2015, building.price_2016 = \\\n",
    "            parse_each_property_price(scrape_each_property_price(building.identificatie))\n",
    "        \n",
    "        try:\n",
    "            building.save()\n",
    "        except:\n",
    "            pass\n",
    "        \n",
    "#         print(\"Saving property to database now, process: {:2.2f}% ...\".format((index+1)*100/(total)), end=\"\\r\")"
   ]
  },
  {
   "cell_type": "code",
   "execution_count": 3,
   "metadata": {},
   "outputs": [
    {
     "ename": "NameError",
     "evalue": "name 'Model' is not defined",
     "output_type": "error",
     "traceback": [
      "\u001b[0;31m---------------------------------------------------------------------------\u001b[0m",
      "\u001b[0;31mNameError\u001b[0m                                 Traceback (most recent call last)",
      "Cell \u001b[0;32mIn[3], line 1\u001b[0m\n\u001b[0;32m----> 1\u001b[0m \u001b[38;5;28;01mclass\u001b[39;00m \u001b[38;5;21;01mBaseModel\u001b[39;00m(\u001b[43mModel\u001b[49m):\n\u001b[1;32m      2\u001b[0m     \u001b[38;5;28;01mclass\u001b[39;00m \u001b[38;5;21;01mMeta\u001b[39;00m:\n\u001b[1;32m      3\u001b[0m         database \u001b[38;5;241m=\u001b[39m SqliteDatabase(\u001b[38;5;124m\"\u001b[39m\u001b[38;5;124mnetherland_properties.db\u001b[39m\u001b[38;5;124m\"\u001b[39m)\n",
      "\u001b[0;31mNameError\u001b[0m: name 'Model' is not defined"
     ]
    }
   ],
   "source": [
    "class BaseModel(Model):\n",
    "    class Meta:\n",
    "        database = SqliteDatabase(\"netherland_properties.db\")\n",
    "class PropertyModel(BaseModel):\n",
    "    identificatie = CharField(unique=True)\n",
    "    house_number = CharField(null=True)\n",
    "    house_number_ext = CharField(null=True)\n",
    "    postcode = CharField(null=True)\n",
    "    plaatsnaam = CharField(null=True)\n",
    "    street = CharField(null=True)\n",
    "    \n",
    "    price_2015 = CharField(null=True)\n",
    "    price_2016 = CharField(null=True)\n",
    "    \n",
    "    bouwjaar = CharField(null=True)\n",
    "    gebruiksdoel = CharField(null=True)\n",
    "    oppervlakte = CharField(null=True)"
   ]
  },
  {
   "cell_type": "code",
   "execution_count": 18,
   "metadata": {},
   "outputs": [],
   "source": [
    "def init_database():\n",
    "    db = SqliteDatabase(\"netherland_properties.db\")\n",
    "    db.connect()\n",
    "    try:\n",
    "        db.drop_tables([PropertyModel])\n",
    "    except:\n",
    "        pass\n",
    "    db.create_tables([PropertyModel])\n",
    "    db.close()"
   ]
  },
  {
   "cell_type": "code",
   "execution_count": 19,
   "metadata": {},
   "outputs": [],
   "source": [
    "init_database()"
   ]
  },
  {
   "cell_type": "code",
   "execution_count": 4,
   "metadata": {},
   "outputs": [],
   "source": [
    "def scrape_obj_from_id_to_id(f=None, t=None):\n",
    "    if f is None:\n",
    "        raise Exception(\"From id is None, check the script please. \")\n",
    "    if t is None:\n",
    "        raise Exception(\"To id is None, check the script please. \")\n",
    "        \n",
    "    # format from_id and to_id\n",
    "    from_id = '%012d'%f\n",
    "    to_id = '%012d'%t\n",
    "    \n",
    "    # initiate a request object\n",
    "    s = requests.Session()\n",
    "    s.get(\"https://www.wozwaardeloket.nl/index.jsp?a=1&accept=true&\")\n",
    "    \n",
    "    xml_obj = \\\n",
    "    \"\"\"\n",
    "    <wfs:GetFeature\n",
    "        xmlns:wfs=\"http://www.opengis.net/wfs\" service=\"WFS\" version=\"1.1.0\" xsi:schemaLocation=\"http://www.opengis.net/wfs http://schemas.opengis.net/wfs/1.1.0/wfs.xsd\"\n",
    "        xmlns:xsi=\"http://www.w3.org/2001/XMLSchema-instance\">\n",
    "        <wfs:Query typeName=\"wozloket:woz_woz_object\" srsName=\"EPSG:28992\"\n",
    "            xmlns:WozViewer=\"http://WozViewer.geonovum.nl\"\n",
    "            xmlns:ogc=\"http://www.opengis.net/ogc\">\n",
    "            <ogc:Filter\n",
    "                xmlns:ogc=\"http://www.opengis.net/ogc\">\n",
    "                <ogc:And>\n",
    "                    <ogc:PropertyIsGreaterThan matchCase=\"true\">\n",
    "                        <ogc:PropertyName>wobj_obj_id</ogc:PropertyName>\n",
    "                        <ogc:Literal>%s</ogc:Literal>\n",
    "                    </ogc:PropertyIsGreaterThan>\n",
    "                    <ogc:PropertyIsLessThan matchCase=\"true\">\n",
    "                        <ogc:PropertyName>wobj_obj_id</ogc:PropertyName>\n",
    "                        <ogc:Literal>%s</ogc:Literal>\n",
    "                    </ogc:PropertyIsLessThan>\n",
    "                </ogc:And>\n",
    "            </ogc:Filter>\n",
    "        </wfs:Query>\n",
    "    </wfs:GetFeature>\n",
    "    \"\"\"\n",
    "    xml_obj = xml_obj%(str(from_id), str(to_id))\n",
    "    \n",
    "    response = None\n",
    "    try:\n",
    "        response = s.post(url=\"https://www.wozwaardeloket.nl/woz-proxy/wozloket\", data=xml_obj)\n",
    "        print(\"scraping woz obj from id %s to id %s . \"%(str(from_id), str(to_id)), end=\"\\n\")\n",
    "    except Exception as e:\n",
    "        logging.error(e)\n",
    "        logging.error(\"request has met problem. \")\n",
    "        logging.error(\"from_id=%s\"%str(from_id))\n",
    "        logging.error(\"to_id=%s\"%str(to_id))\n",
    "        \n",
    "    return response.text"
   ]
  },
  {
   "cell_type": "code",
   "execution_count": 5,
   "metadata": {},
   "outputs": [],
   "source": [
    "def scrape_range_and_save(args):\n",
    "    global objects_total, objects_done\n",
    "    json_string = scrape_obj_from_id_to_id(args[0], args[1])\n",
    "    print(\"----------------- Databased dumped, start parsing :) -------------------\", end=\"\\n\")\n",
    "    parse_json_save_to_sqlite(json_string=json_string)\n",
    "    objects_done += 1\n",
    "    print(\"----------------- Process: {:2.2f}%------------------\".format((objects_done)*100/(objects_total)))"
   ]
  },
  {
   "cell_type": "code",
   "execution_count": 6,
   "metadata": {},
   "outputs": [],
   "source": [
    "def stage1_scrape_all_obj():\n",
    "    global objects_total, objects_done\n",
    "    # the 5000000000 is the step in range, if the script met error, we will need to change this.\n",
    "    range_list = numpy.arange(15000000000, 110000000000, 5000000)\n",
    "    arg_list = [[range_list[index], range_list[index+1]]for index in range(len(range_list)-1)]\n",
    "    objects_total = len(arg_list)\n",
    "    \n",
    "    pool = ThreadPool(16)\n",
    "    pool.map(scrape_range_and_save, arg_list)\n",
    "    pool.close()\n",
    "    pool.join()\n",
    "    objects_total = 0\n",
    "    objects_done = 0"
   ]
  },
  {
   "cell_type": "code",
   "execution_count": 7,
   "metadata": {},
   "outputs": [],
   "source": [
    "def scrape_each_property_price(property_id):\n",
    "    s = requests.Session()\n",
    "    s.get(\"https://www.wozwaardeloket.nl/index.jsp?a=1&accept=true&\")\n",
    "    \n",
    "    xml_obj = \\\n",
    "    \"\"\"\n",
    "    <wfs:GetFeature\n",
    "        xmlns:wfs=\"http://www.opengis.net/wfs\" service=\"WFS\" version=\"1.1.0\" xsi:schemaLocation=\"http://www.opengis.net/wfs http://schemas.opengis.net/wfs/1.1.0/wfs.xsd\"\n",
    "        xmlns:xsi=\"http://www.w3.org/2001/XMLSchema-instance\">\n",
    "        <wfs:Query typeName=\"wozloket:woz_woz_object\" srsName=\"EPSG:28992\"\n",
    "            xmlns:WozViewer=\"http://WozViewer.geonovum.nl\"\n",
    "            xmlns:ogc=\"http://www.opengis.net/ogc\">\n",
    "            <ogc:Filter\n",
    "                xmlns:ogc=\"http://www.opengis.net/ogc\">\n",
    "                <ogc:PropertyIsEqualTo matchCase=\"true\">\n",
    "                    <ogc:PropertyName>wobj_obj_id</ogc:PropertyName>\n",
    "                    <ogc:Literal>%s</ogc:Literal>\n",
    "                </ogc:PropertyIsEqualTo>\n",
    "            </ogc:Filter>\n",
    "        </wfs:Query>\n",
    "    </wfs:GetFeature>\n",
    "    \"\"\"\n",
    "    \n",
    "    xml_obj = xml_obj%str(property_id)\n",
    "    \n",
    "    response = None\n",
    "    try:\n",
    "        response = s.post(url=\"https://www.wozwaardeloket.nl/woz-proxy/wozloket\", data=xml_obj)\n",
    "        print(\"--------scraping price of property id %s-------\"%str(property_id), end=\"\\n\")\n",
    "    except Exception as e:\n",
    "        logging.error(e)\n",
    "        logging.error(\"request has met problem. \")\n",
    "        logging.error(\"property_id: %s\"%str(property_id))\n",
    "        \n",
    "    return response.text"
   ]
  },
  {
   "cell_type": "code",
   "execution_count": 8,
   "metadata": {},
   "outputs": [],
   "source": [
    "def parse_each_property_price(json_string):\n",
    "    try:\n",
    "        json_obj = json.loads(json_string)['features'][0]['properties']\n",
    "    except Exception as e:\n",
    "        logging.error(e)\n",
    "        logging.error(\"there is some problem with json loading\")\n",
    "    \n",
    "    price15, price16 = None, None\n",
    "    try:\n",
    "        price15 = int(json_obj['wobj_wrd_woz_waarde'])/1000\n",
    "    except Exception as e:\n",
    "        price15 = \"none\"\n",
    "        \n",
    "    try:\n",
    "        price16 = int(json_obj['wobj_huidige_woz_waarde'])/1000\n",
    "    except Exception as e:\n",
    "        price16 = \"none\"\n",
    "    \n",
    "    return \"{:.3f}\".format(price15), \"{:.3f}\".format(price16)"
   ]
  },
  {
   "cell_type": "code",
   "execution_count": 11,
   "metadata": {},
   "outputs": [
    {
     "name": "stderr",
     "output_type": "stream",
     "text": [
      "ERROR:root:Expecting value: line 1 column 1 (char 0)\n",
      "ERROR:root:there is some problem with json loading\n",
      "ERROR:root:Expecting value: line 1 column 1 (char 0)\n",
      "ERROR:root:there is some problem with json loading\n",
      "ERROR:root:Expecting value: line 1 column 1 (char 0)\n",
      "ERROR:root:Expecting value: line 1 column 1 (char 0)\n",
      "ERROR:root:Expecting value: line 1 column 1 (char 0)\n",
      "ERROR:root:there is some problem with json loading\n",
      "ERROR:root:Expecting value: line 1 column 1 (char 0)\n",
      "ERROR:root:there is some problem with json loading\n",
      "ERROR:root:Expecting value: line 1 column 1 (char 0)\n",
      "ERROR:root:there is some problem with json loading\n",
      "ERROR:root:Expecting value: line 1 column 1 (char 0)\n",
      "ERROR:root:Expecting value: line 1 column 1 (char 0)\n",
      "ERROR:root:there is some problem with json loading\n",
      "ERROR:root:there is some problem with json loading\n",
      "ERROR:root:there is some problem with json loading\n",
      "ERROR:root:Expecting value: line 1 column 1 (char 0)\n",
      "ERROR:root:there is some problem with json loading\n",
      "ERROR:root:Expecting value: line 1 column 1 (char 0)\n",
      "ERROR:root:there is some problem with json loading\n",
      "ERROR:root:Expecting value: line 1 column 1 (char 0)\n",
      "ERROR:root:there is some problem with json loading\n",
      "ERROR:root:there is some problem with json loading\n",
      "ERROR:root:Expecting value: line 1 column 1 (char 0)\n"
     ]
    },
    {
     "name": "stdout",
     "output_type": "stream",
     "text": [
      "scraping woz obj from id 032820000000 to id 032825000000 . \n",
      "scraping woz obj from id 020940000000 to id 020945000000 . \n",
      "----------------- Databased dumped, start parsing :) -------------------\n",
      "----------------- Databased dumped, start parsing :) -------------------\n",
      "scraping woz obj from id 034305000000 to id 034310000000 . \n",
      "scraping woz obj from id 025395000000 to id 025400000000 . \n",
      "----------------- Databased dumped, start parsing :) -------------------\n",
      "----------------- Databased dumped, start parsing :) -------------------\n",
      "scraping woz obj from id 035790000000 to id 035795000000 . \n",
      "scraping woz obj from id 026880000000 to id 026885000000 . \n",
      "scraping woz obj from id 016485000000 to id 016490000000 . \n",
      "----------------- Databased dumped, start parsing :) -------------------\n",
      "----------------- Databased dumped, start parsing :) -------------------\n",
      "----------------- Databased dumped, start parsing :) -------------------\n",
      "scraping woz obj from id 019455000000 to id 019460000000 . \n",
      "----------------- Databased dumped, start parsing :) -------------------\n",
      "scraping woz obj from id 028365000000 to id 028370000000 . \n",
      "----------------- Databased dumped, start parsing :) -------------------\n",
      "scraping woz obj from id 017970000000 to id 017975000000 . \n",
      "scraping woz obj from id 022425000000 to id 022430000000 . \n",
      "----------------- Databased dumped, start parsing :) -------------------\n",
      "----------------- Databased dumped, start parsing :) -------------------\n",
      "scraping woz obj from id 031335000000 to id 031340000000 . \n",
      "scraping woz obj from id 029850000000 to id 029855000000 . \n",
      "----------------- Databased dumped, start parsing :) -------------------\n",
      "----------------- Databased dumped, start parsing :) -------------------\n",
      "scraping woz obj from id 023910000000 to id 023915000000 . \n",
      "----------------- Databased dumped, start parsing :) -------------------\n",
      "scraping woz obj from id 015000000000 to id 015005000000 . \n",
      "scraping woz obj from id 037275000000 to id 037280000000 . \n",
      "----------------- Databased dumped, start parsing :) -------------------\n",
      "----------------- Databased dumped, start parsing :) -------------------\n"
     ]
    },
    {
     "name": "stderr",
     "output_type": "stream",
     "text": [
      "ERROR:root:there is some problem with json loading\n",
      "ERROR:root:Expecting value: line 1 column 1 (char 0)\n",
      "ERROR:root:there is some problem with json loading\n",
      "ERROR:root:Expecting value: line 1 column 1 (char 0)\n",
      "ERROR:root:there is some problem with json loading\n",
      "ERROR:root:Expecting value: line 1 column 1 (char 0)\n",
      "ERROR:root:there is some problem with json loading\n",
      "ERROR:root:Expecting value: line 1 column 1 (char 0)\n",
      "ERROR:root:Expecting value: line 1 column 1 (char 0)\n",
      "ERROR:root:there is some problem with json loading\n",
      "ERROR:root:Expecting value: line 1 column 1 (char 0)\n",
      "ERROR:root:there is some problem with json loading\n",
      "ERROR:root:there is some problem with json loading\n",
      "ERROR:root:Expecting value: line 1 column 1 (char 0)\n",
      "ERROR:root:Expecting value: line 1 column 1 (char 0)\n",
      "ERROR:root:there is some problem with json loading\n",
      "ERROR:root:there is some problem with json loading\n"
     ]
    },
    {
     "name": "stdout",
     "output_type": "stream",
     "text": [
      "scraping woz obj from id 058065000000 to id 058070000000 . \n",
      "scraping woz obj from id 040245000000 to id 040250000000 . \n",
      "----------------- Databased dumped, start parsing :) -------------------\n",
      "----------------- Databased dumped, start parsing :) -------------------\n",
      "scraping woz obj from id 043215000000 to id 043220000000 . \n",
      "----------------- Databased dumped, start parsing :) -------------------\n",
      "scraping woz obj from id 041730000000 to id 041735000000 . \n",
      "scraping woz obj from id 038760000000 to id 038765000000 . \n",
      "----------------- Databased dumped, start parsing :) -------------------\n",
      "----------------- Databased dumped, start parsing :) -------------------\n"
     ]
    },
    {
     "name": "stderr",
     "output_type": "stream",
     "text": [
      "ERROR:root:Expecting value: line 1 column 1 (char 0)\n",
      "ERROR:root:Expecting value: line 1 column 1 (char 0)\n",
      "ERROR:root:there is some problem with json loading\n",
      "ERROR:root:Expecting value: line 1 column 1 (char 0)\n",
      "ERROR:root:Expecting value: line 1 column 1 (char 0)\n",
      "ERROR:root:there is some problem with json loading\n",
      "ERROR:root:there is some problem with json loading\n",
      "ERROR:root:there is some problem with json loading\n",
      "ERROR:root:Expecting value: line 1 column 1 (char 0)\n",
      "ERROR:root:there is some problem with json loading\n",
      "ERROR:root:Expecting value: line 1 column 1 (char 0)\n",
      "ERROR:root:there is some problem with json loading\n",
      "ERROR:root:Expecting value: line 1 column 1 (char 0)\n",
      "ERROR:root:there is some problem with json loading\n",
      "ERROR:root:Expecting value: line 1 column 1 (char 0)\n",
      "ERROR:root:there is some problem with json loading\n",
      "ERROR:root:Expecting value: line 1 column 1 (char 0)\n",
      "ERROR:root:there is some problem with json loading\n",
      "ERROR:root:Expecting value: line 1 column 1 (char 0)\n",
      "ERROR:root:there is some problem with json loading\n"
     ]
    },
    {
     "name": "stdout",
     "output_type": "stream",
     "text": [
      "scraping woz obj from id 050640000000 to id 050645000000 . \n",
      "----------------- Databased dumped, start parsing :) -------------------\n",
      "scraping woz obj from id 052125000000 to id 052130000000 . \n",
      "scraping woz obj from id 066975000000 to id 066980000000 . \n",
      "----------------- Databased dumped, start parsing :) -------------------\n",
      "scraping woz obj from id 044700000000 to id 044705000000 . \n",
      "----------------- Databased dumped, start parsing :) -------------------\n",
      "scraping woz obj from id 065490000000 to id 065495000000 . \n",
      "----------------- Databased dumped, start parsing :) -------------------\n",
      "----------------- Databased dumped, start parsing :) -------------------\n",
      "scraping woz obj from id 047670000000 to id 047675000000 . \n",
      "----------------- Databased dumped, start parsing :) -------------------\n",
      "scraping woz obj from id 056580000000 to id 056585000000 . \n",
      "----------------- Databased dumped, start parsing :) -------------------\n",
      "scraping woz obj from id 061035000000 to id 061040000000 . \n",
      "scraping woz obj from id 053610000000 to id 053615000000 . \n",
      "----------------- Databased dumped, start parsing :) -------------------\n",
      "----------------- Databased dumped, start parsing :) -------------------\n",
      "scraping woz obj from id 059550000000 to id 059555000000 . \n",
      "----------------- Databased dumped, start parsing :) -------------------\n"
     ]
    },
    {
     "name": "stderr",
     "output_type": "stream",
     "text": [
      "ERROR:root:Expecting value: line 1 column 1 (char 0)\n",
      "ERROR:root:there is some problem with json loading\n",
      "ERROR:root:Expecting value: line 1 column 1 (char 0)\n",
      "ERROR:root:there is some problem with json loading\n",
      "ERROR:root:Expecting value: line 1 column 1 (char 0)\n",
      "ERROR:root:there is some problem with json loading\n",
      "ERROR:root:Expecting value: line 1 column 1 (char 0)\n",
      "ERROR:root:there is some problem with json loading\n",
      "ERROR:root:Expecting value: line 1 column 1 (char 0)\n",
      "ERROR:root:there is some problem with json loading\n",
      "ERROR:root:Expecting value: line 1 column 1 (char 0)\n",
      "ERROR:root:there is some problem with json loading\n"
     ]
    },
    {
     "name": "stdout",
     "output_type": "stream",
     "text": [
      "scraping woz obj from id 080340000000 to id 080345000000 . \n",
      "----------------- Databased dumped, start parsing :) -------------------\n",
      "scraping woz obj from id 049155000000 to id 049160000000 . \n",
      "----------------- Databased dumped, start parsing :) -------------------\n",
      "scraping woz obj from id 046185000000 to id 046190000000 . \n",
      "----------------- Databased dumped, start parsing :) -------------------\n",
      "scraping woz obj from id 072915000000 to id 072920000000 . \n",
      "----------------- Databased dumped, start parsing :) -------------------\n",
      "scraping woz obj from id 069945000000 to id 069950000000 . \n",
      "----------------- Databased dumped, start parsing :) -------------------\n",
      "scraping woz obj from id 078855000000 to id 078860000000 . \n",
      "----------------- Databased dumped, start parsing :) -------------------\n"
     ]
    },
    {
     "name": "stderr",
     "output_type": "stream",
     "text": [
      "ERROR:root:Expecting value: line 1 column 1 (char 0)\n",
      "ERROR:root:there is some problem with json loading\n"
     ]
    },
    {
     "name": "stdout",
     "output_type": "stream",
     "text": [
      "scraping woz obj from id 077370000000 to id 077375000000 . \n",
      "----------------- Databased dumped, start parsing :) -------------------\n"
     ]
    },
    {
     "name": "stderr",
     "output_type": "stream",
     "text": [
      "ERROR:root:Expecting value: line 1 column 1 (char 0)\n",
      "ERROR:root:there is some problem with json loading\n",
      "ERROR:root:Expecting value: line 1 column 1 (char 0)\n",
      "ERROR:root:there is some problem with json loading\n",
      "ERROR:root:Expecting value: line 1 column 1 (char 0)\n",
      "ERROR:root:Expecting value: line 1 column 1 (char 0)\n",
      "ERROR:root:Expecting value: line 1 column 1 (char 0)\n",
      "ERROR:root:there is some problem with json loading\n",
      "ERROR:root:there is some problem with json loading\n",
      "ERROR:root:there is some problem with json loading\n",
      "ERROR:root:Expecting value: line 1 column 1 (char 0)\n",
      "ERROR:root:there is some problem with json loading\n",
      "ERROR:root:Expecting value: line 1 column 1 (char 0)\n",
      "ERROR:root:there is some problem with json loading\n",
      "ERROR:root:Expecting value: line 1 column 1 (char 0)\n",
      "ERROR:root:there is some problem with json loading\n",
      "ERROR:root:Expecting value: line 1 column 1 (char 0)\n",
      "ERROR:root:there is some problem with json loading\n"
     ]
    },
    {
     "name": "stdout",
     "output_type": "stream",
     "text": [
      "scraping woz obj from id 055095000000 to id 055100000000 . \n",
      "scraping woz obj from id 071430000000 to id 071435000000 . \n",
      "scraping woz obj from id 064005000000 to id 064010000000 . \n",
      "----------------- Databased dumped, start parsing :) -------------------\n",
      "----------------- Databased dumped, start parsing :) -------------------\n",
      "scraping woz obj from id 075885000000 to id 075890000000 . \n",
      "----------------- Databased dumped, start parsing :) -------------------\n",
      "scraping woz obj from id 068460000000 to id 068465000000 . \n",
      "----------------- Databased dumped, start parsing :) -------------------\n",
      "----------------- Databased dumped, start parsing :) -------------------\n",
      "scraping woz obj from id 086280000000 to id 086285000000 . \n",
      "----------------- Databased dumped, start parsing :) -------------------\n",
      "scraping woz obj from id 062520000000 to id 062525000000 . \n",
      "scraping woz obj from id 081825000000 to id 081830000000 . \n",
      "----------------- Databased dumped, start parsing :) -------------------\n",
      "----------------- Databased dumped, start parsing :) -------------------\n",
      "scraping woz obj from id 090735000000 to id 090740000000 . \n",
      "----------------- Databased dumped, start parsing :) -------------------\n"
     ]
    },
    {
     "name": "stderr",
     "output_type": "stream",
     "text": [
      "ERROR:root:Expecting value: line 1 column 1 (char 0)\n",
      "ERROR:root:there is some problem with json loading\n",
      "ERROR:root:Expecting value: line 1 column 1 (char 0)\n",
      "ERROR:root:there is some problem with json loading\n",
      "ERROR:root:Expecting value: line 1 column 1 (char 0)\n",
      "ERROR:root:there is some problem with json loading\n",
      "ERROR:root:Expecting value: line 1 column 1 (char 0)\n",
      "ERROR:root:there is some problem with json loading\n",
      "ERROR:root:Expecting value: line 1 column 1 (char 0)\n",
      "ERROR:root:there is some problem with json loading\n",
      "ERROR:root:Expecting value: line 1 column 1 (char 0)\n"
     ]
    },
    {
     "name": "stdout",
     "output_type": "stream",
     "text": [
      "scraping woz obj from id 087765000000 to id 087770000000 . \n",
      "----------------- Databased dumped, start parsing :) -------------------\n",
      "scraping woz obj from id 074400000000 to id 074405000000 . \n",
      "----------------- Databased dumped, start parsing :) -------------------\n",
      "scraping woz obj from id 093705000000 to id 093710000000 . \n",
      "----------------- Databased dumped, start parsing :) -------------------\n",
      "scraping woz obj from id 092220000000 to id 092225000000 . \n",
      "----------------- Databased dumped, start parsing :) -------------------\n",
      "scraping woz obj from id 098160000000 to id 098165000000 . \n",
      "----------------- Databased dumped, start parsing :) -------------------\n",
      "scraping woz obj from id 101130000000 to id 101135000000 . \n",
      "----------------- Databased dumped, start parsing :) -------------------\n"
     ]
    },
    {
     "name": "stderr",
     "output_type": "stream",
     "text": [
      "ERROR:root:there is some problem with json loading\n",
      "ERROR:root:Expecting value: line 1 column 1 (char 0)\n",
      "ERROR:root:there is some problem with json loading\n",
      "ERROR:root:Expecting value: line 1 column 1 (char 0)\n",
      "ERROR:root:there is some problem with json loading\n",
      "ERROR:root:Expecting value: line 1 column 1 (char 0)\n",
      "ERROR:root:there is some problem with json loading\n",
      "ERROR:root:Expecting value: line 1 column 1 (char 0)\n",
      "ERROR:root:there is some problem with json loading\n",
      "ERROR:root:Expecting value: line 1 column 1 (char 0)\n",
      "ERROR:root:there is some problem with json loading\n"
     ]
    },
    {
     "name": "stdout",
     "output_type": "stream",
     "text": [
      "scraping woz obj from id 099645000000 to id 099650000000 . \n",
      "----------------- Databased dumped, start parsing :) -------------------\n",
      "scraping woz obj from id 102615000000 to id 102620000000 . \n",
      "----------------- Databased dumped, start parsing :) -------------------\n",
      "scraping woz obj from id 083310000000 to id 083315000000 . \n",
      "----------------- Databased dumped, start parsing :) -------------------\n",
      "scraping woz obj from id 095190000000 to id 095195000000 . \n",
      "----------------- Databased dumped, start parsing :) -------------------\n",
      "scraping woz obj from id 104100000000 to id 104105000000 . \n",
      "----------------- Databased dumped, start parsing :) -------------------\n"
     ]
    },
    {
     "name": "stderr",
     "output_type": "stream",
     "text": [
      "ERROR:root:Expecting value: line 1 column 1 (char 0)\n",
      "ERROR:root:there is some problem with json loading\n"
     ]
    },
    {
     "name": "stdout",
     "output_type": "stream",
     "text": [
      "scraping woz obj from id 084795000000 to id 084800000000 . \n",
      "----------------- Databased dumped, start parsing :) -------------------\n"
     ]
    },
    {
     "name": "stderr",
     "output_type": "stream",
     "text": [
      "ERROR:root:Expecting value: line 1 column 1 (char 0)\n",
      "ERROR:root:there is some problem with json loading\n",
      "ERROR:root:Expecting value: line 1 column 1 (char 0)\n",
      "ERROR:root:there is some problem with json loading\n",
      "ERROR:root:Expecting value: line 1 column 1 (char 0)\n",
      "ERROR:root:there is some problem with json loading\n"
     ]
    },
    {
     "name": "stdout",
     "output_type": "stream",
     "text": [
      "scraping woz obj from id 108555000000 to id 108560000000 . \n",
      "----------------- Databased dumped, start parsing :) -------------------\n",
      "scraping woz obj from id 105585000000 to id 105590000000 . \n",
      "----------------- Databased dumped, start parsing :) -------------------\n",
      "scraping woz obj from id 107070000000 to id 107075000000 . \n",
      "----------------- Databased dumped, start parsing :) -------------------\n"
     ]
    },
    {
     "name": "stderr",
     "output_type": "stream",
     "text": [
      "ERROR:root:Expecting value: line 1 column 1 (char 0)\n",
      "ERROR:root:there is some problem with json loading\n"
     ]
    },
    {
     "name": "stdout",
     "output_type": "stream",
     "text": [
      "scraping woz obj from id 096675000000 to id 096680000000 . \n",
      "----------------- Databased dumped, start parsing :) -------------------\n"
     ]
    },
    {
     "name": "stderr",
     "output_type": "stream",
     "text": [
      "ERROR:root:Expecting value: line 1 column 1 (char 0)\n",
      "ERROR:root:there is some problem with json loading\n"
     ]
    },
    {
     "name": "stdout",
     "output_type": "stream",
     "text": [
      "scraping woz obj from id 089250000000 to id 089255000000 . \n",
      "----------------- Databased dumped, start parsing :) -------------------\n"
     ]
    },
    {
     "ename": "UnboundLocalError",
     "evalue": "local variable 'json_obj' referenced before assignment",
     "output_type": "error",
     "traceback": [
      "\u001b[0;31m---------------------------------------------------------------------------\u001b[0m",
      "\u001b[0;31mUnboundLocalError\u001b[0m                         Traceback (most recent call last)",
      "Cell \u001b[0;32mIn[11], line 1\u001b[0m\n\u001b[0;32m----> 1\u001b[0m \u001b[43mstage1_scrape_all_obj\u001b[49m\u001b[43m(\u001b[49m\u001b[43m)\u001b[49m\n",
      "Cell \u001b[0;32mIn[6], line 9\u001b[0m, in \u001b[0;36mstage1_scrape_all_obj\u001b[0;34m()\u001b[0m\n\u001b[1;32m      6\u001b[0m objects_total \u001b[38;5;241m=\u001b[39m \u001b[38;5;28mlen\u001b[39m(arg_list)\n\u001b[1;32m      8\u001b[0m pool \u001b[38;5;241m=\u001b[39m ThreadPool(\u001b[38;5;241m16\u001b[39m)\n\u001b[0;32m----> 9\u001b[0m \u001b[43mpool\u001b[49m\u001b[38;5;241;43m.\u001b[39;49m\u001b[43mmap\u001b[49m\u001b[43m(\u001b[49m\u001b[43mscrape_range_and_save\u001b[49m\u001b[43m,\u001b[49m\u001b[43m \u001b[49m\u001b[43marg_list\u001b[49m\u001b[43m)\u001b[49m\n\u001b[1;32m     10\u001b[0m pool\u001b[38;5;241m.\u001b[39mclose()\n\u001b[1;32m     11\u001b[0m pool\u001b[38;5;241m.\u001b[39mjoin()\n",
      "File \u001b[0;32m/usr/lib/python3.10/multiprocessing/pool.py:367\u001b[0m, in \u001b[0;36mPool.map\u001b[0;34m(self, func, iterable, chunksize)\u001b[0m\n\u001b[1;32m    362\u001b[0m \u001b[38;5;28;01mdef\u001b[39;00m \u001b[38;5;21mmap\u001b[39m(\u001b[38;5;28mself\u001b[39m, func, iterable, chunksize\u001b[38;5;241m=\u001b[39m\u001b[38;5;28;01mNone\u001b[39;00m):\n\u001b[1;32m    363\u001b[0m \u001b[38;5;250m    \u001b[39m\u001b[38;5;124;03m'''\u001b[39;00m\n\u001b[1;32m    364\u001b[0m \u001b[38;5;124;03m    Apply `func` to each element in `iterable`, collecting the results\u001b[39;00m\n\u001b[1;32m    365\u001b[0m \u001b[38;5;124;03m    in a list that is returned.\u001b[39;00m\n\u001b[1;32m    366\u001b[0m \u001b[38;5;124;03m    '''\u001b[39;00m\n\u001b[0;32m--> 367\u001b[0m     \u001b[38;5;28;01mreturn\u001b[39;00m \u001b[38;5;28;43mself\u001b[39;49m\u001b[38;5;241;43m.\u001b[39;49m\u001b[43m_map_async\u001b[49m\u001b[43m(\u001b[49m\u001b[43mfunc\u001b[49m\u001b[43m,\u001b[49m\u001b[43m \u001b[49m\u001b[43miterable\u001b[49m\u001b[43m,\u001b[49m\u001b[43m \u001b[49m\u001b[43mmapstar\u001b[49m\u001b[43m,\u001b[49m\u001b[43m \u001b[49m\u001b[43mchunksize\u001b[49m\u001b[43m)\u001b[49m\u001b[38;5;241;43m.\u001b[39;49m\u001b[43mget\u001b[49m\u001b[43m(\u001b[49m\u001b[43m)\u001b[49m\n",
      "File \u001b[0;32m/usr/lib/python3.10/multiprocessing/pool.py:774\u001b[0m, in \u001b[0;36mApplyResult.get\u001b[0;34m(self, timeout)\u001b[0m\n\u001b[1;32m    772\u001b[0m     \u001b[38;5;28;01mreturn\u001b[39;00m \u001b[38;5;28mself\u001b[39m\u001b[38;5;241m.\u001b[39m_value\n\u001b[1;32m    773\u001b[0m \u001b[38;5;28;01melse\u001b[39;00m:\n\u001b[0;32m--> 774\u001b[0m     \u001b[38;5;28;01mraise\u001b[39;00m \u001b[38;5;28mself\u001b[39m\u001b[38;5;241m.\u001b[39m_value\n",
      "File \u001b[0;32m/usr/lib/python3.10/multiprocessing/pool.py:125\u001b[0m, in \u001b[0;36mworker\u001b[0;34m(inqueue, outqueue, initializer, initargs, maxtasks, wrap_exception)\u001b[0m\n\u001b[1;32m    123\u001b[0m job, i, func, args, kwds \u001b[38;5;241m=\u001b[39m task\n\u001b[1;32m    124\u001b[0m \u001b[38;5;28;01mtry\u001b[39;00m:\n\u001b[0;32m--> 125\u001b[0m     result \u001b[38;5;241m=\u001b[39m (\u001b[38;5;28;01mTrue\u001b[39;00m, \u001b[43mfunc\u001b[49m\u001b[43m(\u001b[49m\u001b[38;5;241;43m*\u001b[39;49m\u001b[43margs\u001b[49m\u001b[43m,\u001b[49m\u001b[43m \u001b[49m\u001b[38;5;241;43m*\u001b[39;49m\u001b[38;5;241;43m*\u001b[39;49m\u001b[43mkwds\u001b[49m\u001b[43m)\u001b[49m)\n\u001b[1;32m    126\u001b[0m \u001b[38;5;28;01mexcept\u001b[39;00m \u001b[38;5;167;01mException\u001b[39;00m \u001b[38;5;28;01mas\u001b[39;00m e:\n\u001b[1;32m    127\u001b[0m     \u001b[38;5;28;01mif\u001b[39;00m wrap_exception \u001b[38;5;129;01mand\u001b[39;00m func \u001b[38;5;129;01mis\u001b[39;00m \u001b[38;5;129;01mnot\u001b[39;00m _helper_reraises_exception:\n",
      "File \u001b[0;32m/usr/lib/python3.10/multiprocessing/pool.py:48\u001b[0m, in \u001b[0;36mmapstar\u001b[0;34m(args)\u001b[0m\n\u001b[1;32m     47\u001b[0m \u001b[38;5;28;01mdef\u001b[39;00m \u001b[38;5;21mmapstar\u001b[39m(args):\n\u001b[0;32m---> 48\u001b[0m     \u001b[38;5;28;01mreturn\u001b[39;00m \u001b[38;5;28;43mlist\u001b[39;49m\u001b[43m(\u001b[49m\u001b[38;5;28;43mmap\u001b[39;49m\u001b[43m(\u001b[49m\u001b[38;5;241;43m*\u001b[39;49m\u001b[43margs\u001b[49m\u001b[43m)\u001b[49m\u001b[43m)\u001b[49m\n",
      "Cell \u001b[0;32mIn[5], line 5\u001b[0m, in \u001b[0;36mscrape_range_and_save\u001b[0;34m(args)\u001b[0m\n\u001b[1;32m      3\u001b[0m json_string \u001b[38;5;241m=\u001b[39m scrape_obj_from_id_to_id(args[\u001b[38;5;241m0\u001b[39m], args[\u001b[38;5;241m1\u001b[39m])\n\u001b[1;32m      4\u001b[0m \u001b[38;5;28mprint\u001b[39m(\u001b[38;5;124m\"\u001b[39m\u001b[38;5;124m----------------- Databased dumped, start parsing :) -------------------\u001b[39m\u001b[38;5;124m\"\u001b[39m, end\u001b[38;5;241m=\u001b[39m\u001b[38;5;124m\"\u001b[39m\u001b[38;5;130;01m\\n\u001b[39;00m\u001b[38;5;124m\"\u001b[39m)\n\u001b[0;32m----> 5\u001b[0m \u001b[43mparse_json_save_to_sqlite\u001b[49m\u001b[43m(\u001b[49m\u001b[43mjson_string\u001b[49m\u001b[38;5;241;43m=\u001b[39;49m\u001b[43mjson_string\u001b[49m\u001b[43m)\u001b[49m\n\u001b[1;32m      6\u001b[0m objects_done \u001b[38;5;241m+\u001b[39m\u001b[38;5;241m=\u001b[39m \u001b[38;5;241m1\u001b[39m\n\u001b[1;32m      7\u001b[0m \u001b[38;5;28mprint\u001b[39m(\u001b[38;5;124m\"\u001b[39m\u001b[38;5;124m----------------- Process: \u001b[39m\u001b[38;5;132;01m{:2.2f}\u001b[39;00m\u001b[38;5;124m%\u001b[39m\u001b[38;5;124m------------------\u001b[39m\u001b[38;5;124m\"\u001b[39m\u001b[38;5;241m.\u001b[39mformat((objects_done)\u001b[38;5;241m*\u001b[39m\u001b[38;5;241m100\u001b[39m\u001b[38;5;241m/\u001b[39m(objects_total)))\n",
      "Cell \u001b[0;32mIn[2], line 8\u001b[0m, in \u001b[0;36mparse_json_save_to_sqlite\u001b[0;34m(json_string)\u001b[0m\n\u001b[1;32m      5\u001b[0m     logging\u001b[38;5;241m.\u001b[39merror(e)\n\u001b[1;32m      6\u001b[0m     logging\u001b[38;5;241m.\u001b[39merror(\u001b[38;5;124m\"\u001b[39m\u001b[38;5;124mthere is some problem with json loading\u001b[39m\u001b[38;5;124m\"\u001b[39m)\n\u001b[0;32m----> 8\u001b[0m total \u001b[38;5;241m=\u001b[39m \u001b[38;5;28mlen\u001b[39m(\u001b[43mjson_obj\u001b[49m[\u001b[38;5;124m'\u001b[39m\u001b[38;5;124mfeatures\u001b[39m\u001b[38;5;124m'\u001b[39m])\n\u001b[1;32m      9\u001b[0m \u001b[38;5;28mprint\u001b[39m(\u001b[38;5;124m\"\u001b[39m\u001b[38;5;124m------------- get total: \u001b[39m\u001b[38;5;132;01m%s\u001b[39;00m\u001b[38;5;124m properties ----------------\u001b[39m\u001b[38;5;124m\"\u001b[39m \u001b[38;5;241m%\u001b[39m \u001b[38;5;28mstr\u001b[39m(total))\n\u001b[1;32m     10\u001b[0m \u001b[38;5;28;01mfor\u001b[39;00m index, each_building \u001b[38;5;129;01min\u001b[39;00m \u001b[38;5;28menumerate\u001b[39m(json_obj[\u001b[38;5;124m'\u001b[39m\u001b[38;5;124mfeatures\u001b[39m\u001b[38;5;124m'\u001b[39m]):\n",
      "\u001b[0;31mUnboundLocalError\u001b[0m: local variable 'json_obj' referenced before assignment"
     ]
    }
   ],
   "source": [
    "stage1_scrape_all_obj()"
   ]
  },
  {
   "cell_type": "code",
   "execution_count": null,
   "metadata": {},
   "outputs": [],
   "source": []
  }
 ],
 "metadata": {
  "kernelspec": {
   "display_name": "Python 3 (ipykernel)",
   "language": "python",
   "name": "python3"
  },
  "language_info": {
   "codemirror_mode": {
    "name": "ipython",
    "version": 3
   },
   "file_extension": ".py",
   "mimetype": "text/x-python",
   "name": "python",
   "nbconvert_exporter": "python",
   "pygments_lexer": "ipython3",
   "version": "3.10.12"
  }
 },
 "nbformat": 4,
 "nbformat_minor": 4
}
